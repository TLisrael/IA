{
 "cells": [
  {
   "cell_type": "code",
   "execution_count": null,
   "id": "dfaec505",
   "metadata": {},
   "outputs": [
    {
     "data": {
      "text/plain": [
       "True"
      ]
     },
     "execution_count": 53,
     "metadata": {},
     "output_type": "execute_result"
    }
   ],
   "source": [
    "import json\n",
    "import openai\n",
    "import os\n",
    "from dotenv import load_dotenv\n",
    "load_dotenv()"
   ]
  },
  {
   "cell_type": "code",
   "execution_count": 54,
   "id": "1374408b",
   "metadata": {},
   "outputs": [],
   "source": [
    "client = openai.Client(api_key=os.getenv(\"OPENAI_API_KEY\"))"
   ]
  },
  {
   "cell_type": "code",
   "execution_count": null,
   "id": "0b7a0c11",
   "metadata": {},
   "outputs": [],
   "source": [
    "def saudacao_por_periodo(hora):\n",
    "    if 5 <= hora < 12:\n",
    "        return json.dumps({\"saudacao\":\"Bom dia, Fuleiro!\"})\n",
    "    elif 12 <= hora < 18:\n",
    "        return json.dumps({\"saudacao\":\"Boa tarde!\"})\n",
    "    elif 18 <= hora < 22:\n",
    "        return json.dumps({\"saudacao\": \"Boa noite\"})\n",
    "    else:\n",
    "        return json.dumps({\"saudacao\": \"Boa madrugada\"})"
   ]
  },
  {
   "cell_type": "code",
   "execution_count": 56,
   "id": "9f94d8bb",
   "metadata": {},
   "outputs": [],
   "source": [
    "tools = [\n",
    "    {\n",
    "        \"type\": \"function\",\n",
    "        \"function\": {\n",
    "            \"name\": \"saudacao_por_periodo\",\n",
    "            \"description\": \"Retorna uma saudação baseada na hora do dia\",\n",
    "            \"parameters\":{\n",
    "                \"type\": \"object\",\n",
    "                \"properties\":{\n",
    "                    \"hora\":{\n",
    "                        \"type\":\"integer\",\n",
    "                        \"description\":\"A gira di dua en formato de 24h\"},\n",
    "                    },\n",
    "                    \"required\":[\"hora\"]\n",
    "                \n",
    "            }\n",
    "\n",
    "        }\n",
    "    }\n",
    "]"
   ]
  },
  {
   "cell_type": "code",
   "execution_count": 57,
   "id": "714eb009",
   "metadata": {},
   "outputs": [],
   "source": [
    "funcao_disponivel = {\n",
    "    \"saudacao_por_periodo\": saudacao_por_periodo\n",
    "}"
   ]
  },
  {
   "cell_type": "code",
   "execution_count": 58,
   "id": "f4df0643",
   "metadata": {},
   "outputs": [],
   "source": [
    "mensagens = [{\"role\": \"user\", \"content\":\"Qual saudacao o modelo me da se for 10h?\"}]"
   ]
  },
  {
   "cell_type": "code",
   "execution_count": 59,
   "id": "93c70aa8",
   "metadata": {},
   "outputs": [],
   "source": [
    "resposta = client.chat.completions.create(\n",
    "    model=\"gpt-4o-mini\",\n",
    "    messages=mensagens,\n",
    "    tools=tools,\n",
    "    tool_choice=\"auto\"\n",
    ")\n"
   ]
  },
  {
   "cell_type": "code",
   "execution_count": 60,
   "id": "3812faec",
   "metadata": {},
   "outputs": [
    {
     "data": {
      "text/plain": [
       "ChatCompletionMessage(content=None, refusal=None, role='assistant', annotations=[], audio=None, function_call=None, tool_calls=[ChatCompletionMessageFunctionToolCall(id='call_rYmK8MyF8NSFasyRSXJWXuNu', function=Function(arguments='{\"hora\":10}', name='saudacao_por_periodo'), type='function')])"
      ]
     },
     "execution_count": 60,
     "metadata": {},
     "output_type": "execute_result"
    }
   ],
   "source": [
    "mensagem_resp = resposta.choices[0].message\n",
    "mensagem_resp"
   ]
  },
  {
   "cell_type": "code",
   "execution_count": 61,
   "id": "5a9d619d",
   "metadata": {},
   "outputs": [
    {
     "data": {
      "text/plain": [
       "[ChatCompletionMessageFunctionToolCall(id='call_rYmK8MyF8NSFasyRSXJWXuNu', function=Function(arguments='{\"hora\":10}', name='saudacao_por_periodo'), type='function')]"
      ]
     },
     "execution_count": 61,
     "metadata": {},
     "output_type": "execute_result"
    }
   ],
   "source": [
    "tool_calls = mensagem_resp.tool_calls\n",
    "tool_calls"
   ]
  },
  {
   "cell_type": "code",
   "execution_count": 62,
   "id": "66da4723",
   "metadata": {},
   "outputs": [],
   "source": [
    "if tool_calls:\n",
    "    mensagens.append(mensagem_resp)\n",
    "    for tool_call in tool_calls:\n",
    "        function_name = tool_call.function.name\n",
    "        function_to_call = funcao_disponivel[function_name]\n",
    "        function_args = json.loads(tool_call.function.arguments)\n",
    "        function_response = function_to_call(\n",
    "            hora = function_args.get(\"hora\")\n",
    "        )\n",
    "        mensagens.append(\n",
    "            {\n",
    "            \"tool_call_id\": tool_call.id,\n",
    "            \"role\":\"tool\",\n",
    "            \"name\": function_name,\n",
    "            \"content\": function_response\n",
    "            }\n",
    "        )\n",
    "    segunda_resposta = client.chat.completions.create(\n",
    "        model=\"gpt-4o-mini\",\n",
    "        messages = mensagens\n",
    "    )"
   ]
  },
  {
   "cell_type": "code",
   "execution_count": 63,
   "id": "30c9ba35",
   "metadata": {},
   "outputs": [
    {
     "data": {
      "text/plain": [
       "ChatCompletionMessage(content='Se for 10h, a saudação que eu te daria é: \"Bom dia, Fuleiro!\"', refusal=None, role='assistant', annotations=[], audio=None, function_call=None, tool_calls=None)"
      ]
     },
     "execution_count": 63,
     "metadata": {},
     "output_type": "execute_result"
    }
   ],
   "source": [
    "resposta = segunda_resposta.choices[0].message\n",
    "resposta\n"
   ]
  }
 ],
 "metadata": {
  "kernelspec": {
   "display_name": ".venv",
   "language": "python",
   "name": "python3"
  },
  "language_info": {
   "codemirror_mode": {
    "name": "ipython",
    "version": 3
   },
   "file_extension": ".py",
   "mimetype": "text/x-python",
   "name": "python",
   "nbconvert_exporter": "python",
   "pygments_lexer": "ipython3",
   "version": "3.11.9"
  }
 },
 "nbformat": 4,
 "nbformat_minor": 5
}
