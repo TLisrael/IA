{
 "cells": [
  {
   "cell_type": "code",
   "execution_count": 52,
   "id": "deecc3f5",
   "metadata": {},
   "outputs": [],
   "source": [
    "import openai"
   ]
  },
  {
   "cell_type": "code",
   "execution_count": 53,
   "id": "af41a2ad",
   "metadata": {},
   "outputs": [],
   "source": [
    "client = openai.Client()"
   ]
  },
  {
   "cell_type": "markdown",
   "id": "49c73903",
   "metadata": {},
   "source": [
    "### Fluxo de conversa\n",
    "- User: Usuario que inicia a conversa \n",
    "- Assistant Bot que responde a pergunta"
   ]
  },
  {
   "cell_type": "code",
   "execution_count": 54,
   "id": "d5828fc8",
   "metadata": {},
   "outputs": [],
   "source": [
    "mensagens = [{\"role\": \"user\", \"content\":\"Defina uma IA em 5 palavras\"}]"
   ]
  },
  {
   "cell_type": "code",
   "execution_count": 55,
   "id": "3944afeb",
   "metadata": {},
   "outputs": [],
   "source": [
    "resposta = client.chat.completions.create(\n",
    "    messages=mensagens,\n",
    "    model=\"gpt-4o-mini\",\n",
    "    max_tokens=1000,\n",
    "    temperature=0\n",
    ")"
   ]
  },
  {
   "cell_type": "code",
   "execution_count": 56,
   "id": "fcadc677",
   "metadata": {},
   "outputs": [
    {
     "data": {
      "text/plain": [
       "ChatCompletion(id='chatcmpl-C3UbtfbsONCfkJ547COHc2m6RD5gp', choices=[Choice(finish_reason='stop', index=0, logprobs=None, message=ChatCompletionMessage(content='Máquina que simula inteligência humana.', refusal=None, role='assistant', annotations=[], audio=None, function_call=None, tool_calls=None))], created=1754948685, model='gpt-4o-mini-2024-07-18', object='chat.completion', service_tier='default', system_fingerprint='fp_62a23a81ef', usage=CompletionUsage(completion_tokens=8, prompt_tokens=15, total_tokens=23, completion_tokens_details=CompletionTokensDetails(accepted_prediction_tokens=0, audio_tokens=0, reasoning_tokens=0, rejected_prediction_tokens=0), prompt_tokens_details=PromptTokensDetails(audio_tokens=0, cached_tokens=0)))"
      ]
     },
     "execution_count": 56,
     "metadata": {},
     "output_type": "execute_result"
    }
   ],
   "source": [
    "resposta"
   ]
  },
  {
   "cell_type": "code",
   "execution_count": 57,
   "id": "c840587f",
   "metadata": {},
   "outputs": [
    {
     "data": {
      "text/plain": [
       "'Máquina que simula inteligência humana.'"
      ]
     },
     "execution_count": 57,
     "metadata": {},
     "output_type": "execute_result"
    }
   ],
   "source": [
    "resposta.choices[0].message.content"
   ]
  },
  {
   "cell_type": "code",
   "execution_count": 58,
   "id": "3cde7304",
   "metadata": {},
   "outputs": [],
   "source": [
    "mensagens.append({\"role\":\"assistant\", \"content\":resposta.choices[0].message.content})"
   ]
  },
  {
   "cell_type": "code",
   "execution_count": 59,
   "id": "561f3630",
   "metadata": {},
   "outputs": [],
   "source": [
    "mensagens.append({\"role\":\"user\", \"content\":\"E qual é o seu objetivo?\"})"
   ]
  },
  {
   "cell_type": "code",
   "execution_count": 60,
   "id": "bc51d0f7",
   "metadata": {},
   "outputs": [],
   "source": [
    "resposta = client.chat.completions.create(\n",
    "    messages=mensagens,\n",
    "    model=\"gpt-4o-mini\",\n",
    "    max_tokens=1000,\n",
    "    temperature=0\n",
    ")"
   ]
  },
  {
   "cell_type": "code",
   "execution_count": 61,
   "id": "6990db75",
   "metadata": {},
   "outputs": [
    {
     "data": {
      "text/plain": [
       "'O objetivo da inteligência artificial (IA) é resolver problemas, automatizar tarefas, melhorar a eficiência e auxiliar na tomada de decisões, proporcionando soluções que imitam ou superam a capacidade humana em diversas áreas.'"
      ]
     },
     "execution_count": 61,
     "metadata": {},
     "output_type": "execute_result"
    }
   ],
   "source": [
    "resposta.choices[0].message.content"
   ]
  },
  {
   "cell_type": "code",
   "execution_count": 62,
   "id": "9d706866",
   "metadata": {},
   "outputs": [],
   "source": [
    "mensagens.append({\"role\":\"assistant\", \"content\":resposta.choices[0].message.content})"
   ]
  },
  {
   "cell_type": "code",
   "execution_count": 63,
   "id": "4ee234c6",
   "metadata": {},
   "outputs": [
    {
     "data": {
      "text/plain": [
       "[{'role': 'user', 'content': 'Defina uma IA em 5 palavras'},\n",
       " {'role': 'assistant', 'content': 'Máquina que simula inteligência humana.'},\n",
       " {'role': 'user', 'content': 'E qual é o seu objetivo?'},\n",
       " {'role': 'assistant',\n",
       "  'content': 'O objetivo da inteligência artificial (IA) é resolver problemas, automatizar tarefas, melhorar a eficiência e auxiliar na tomada de decisões, proporcionando soluções que imitam ou superam a capacidade humana em diversas áreas.'}]"
      ]
     },
     "execution_count": 63,
     "metadata": {},
     "output_type": "execute_result"
    }
   ],
   "source": [
    "mensagens"
   ]
  },
  {
   "cell_type": "markdown",
   "id": "ba6bd2bb",
   "metadata": {},
   "source": [
    "### Utilizando Função\n"
   ]
  },
  {
   "cell_type": "code",
   "execution_count": 64,
   "id": "38672288",
   "metadata": {},
   "outputs": [],
   "source": [
    "def geracao_texto(mensagens, model=\"gpt-4o-mini\", max_tokens=1000, temperature=0):\n",
    "    resposta = client.chat.completions.create(\n",
    "        messages=mensagens,\n",
    "        model=model,\n",
    "        max_tokens=max_tokens,\n",
    "        temperature=temperature\n",
    "    )\n",
    "    mensagens.append({\"role\":\"assistant\", \"content\":resposta.choices[0].message.content})\n",
    "    return mensagens"
   ]
  },
  {
   "cell_type": "code",
   "execution_count": 65,
   "id": "ec4c7804",
   "metadata": {},
   "outputs": [],
   "source": [
    "msg1 = [{\"role\":\"user\", \"content\": \"Defina o que é API em 5 palavras\"}]\n",
    "mensagens = geracao_texto(msg1)\n"
   ]
  },
  {
   "cell_type": "code",
   "execution_count": 66,
   "id": "aac772a9",
   "metadata": {},
   "outputs": [
    {
     "data": {
      "text/plain": [
       "[{'role': 'user', 'content': 'Defina o que é API em 5 palavras'},\n",
       " {'role': 'assistant',\n",
       "  'content': 'Interface para comunicação entre sistemas.'}]"
      ]
     },
     "execution_count": 66,
     "metadata": {},
     "output_type": "execute_result"
    }
   ],
   "source": [
    "mensagens"
   ]
  },
  {
   "cell_type": "markdown",
   "id": "33788dd9",
   "metadata": {},
   "source": [
    "### Utilizando Stream"
   ]
  },
  {
   "cell_type": "code",
   "execution_count": 67,
   "id": "ef8ae750",
   "metadata": {},
   "outputs": [],
   "source": [
    "mensagens = [{\"role\": \"user\", \"content\":\"Conte uma historia simples e objetiva sobre LLM\"}]\n",
    "resposta = client.chat.completions.create(\n",
    "        messages=mensagens,\n",
    "        model=\"gpt-4o-mini\",\n",
    "        max_tokens=1000,\n",
    "        temperature=0,\n",
    "        stream=True\n",
    "    )"
   ]
  },
  {
   "cell_type": "code",
   "execution_count": 68,
   "id": "d27c605d",
   "metadata": {},
   "outputs": [
    {
     "data": {
      "text/plain": [
       "<openai.Stream at 0x182c3e6ae90>"
      ]
     },
     "execution_count": 68,
     "metadata": {},
     "output_type": "execute_result"
    }
   ],
   "source": [
    "resposta"
   ]
  },
  {
   "cell_type": "code",
   "execution_count": 69,
   "id": "d9a43d75",
   "metadata": {},
   "outputs": [
    {
     "name": "stdout",
     "output_type": "stream",
     "text": [
      "Era uma vez, em um mundo digital, um modelo de linguagem chamado LLM (Large Language Model). LLM era muito especial, pois tinha a capacidade de entender e gerar texto de forma impressionante. Ele foi criado por uma equipe de cientistas e engenheiros que queriam ajudar as pessoas a se comunicarem melhor e a encontrar informações de maneira mais fácil.\n",
      "\n",
      "Um dia, uma estudante chamada Ana estava se preparando para um exame importante. Ela se sentia sobrecarregada com a quantidade de material que precisava estudar. Decidiu, então, pedir ajuda ao LLM. Com um simples comando, ela começou a fazer perguntas sobre os tópicos que mais a preocupavam.\n",
      "\n",
      "LLM respondeu de forma clara e objetiva, explicando conceitos complexos de maneira simples. Ele também sugeriu resumos e até mesmo exercícios práticos para ajudar Ana a fixar o conteúdo. A cada interação, Ana se sentia mais confiante e preparada.\n",
      "\n",
      "No dia do exame, Ana se saiu muito bem. Ela agradeceu ao LLM por sua ajuda e percebeu que a tecnologia poderia ser uma grande aliada no aprendizado. A partir daquele dia, Ana e seus amigos começaram a usar LLM para estudar juntos, tornando o aprendizado mais divertido e eficiente.\n",
      "\n",
      "E assim, LLM continuou a ajudar pessoas ao redor do mundo, tornando o conhecimento mais acessível e a comunicação mais fluida. E todos viveram felizes, aprendendo e compartilhando ideias. Fim."
     ]
    }
   ],
   "source": [
    "for resposta_stream in resposta:\n",
    "    texto = resposta_stream.choices[0].delta.content\n",
    "    if texto:\n",
    "        print(texto, end=\"\")"
   ]
  }
 ],
 "metadata": {
  "kernelspec": {
   "display_name": ".venv",
   "language": "python",
   "name": "python3"
  },
  "language_info": {
   "codemirror_mode": {
    "name": "ipython",
    "version": 3
   },
   "file_extension": ".py",
   "mimetype": "text/x-python",
   "name": "python",
   "nbconvert_exporter": "python",
   "pygments_lexer": "ipython3",
   "version": "3.11.9"
  }
 },
 "nbformat": 4,
 "nbformat_minor": 5
}
